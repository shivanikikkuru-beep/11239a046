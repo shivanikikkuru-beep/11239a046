{
  "nbformat": 4,
  "nbformat_minor": 0,
  "metadata": {
    "colab": {
      "provenance": [],
      "authorship_tag": "ABX9TyNhiG04OMwZXLDeIGfv2fD9",
      "include_colab_link": true
    },
    "kernelspec": {
      "name": "python3",
      "display_name": "Python 3"
    },
    "language_info": {
      "name": "python"
    }
  },
  "cells": [
    {
      "cell_type": "markdown",
      "metadata": {
        "id": "view-in-github",
        "colab_type": "text"
      },
      "source": [
        "<a href=\"https://colab.research.google.com/github/shivanikikkuru-beep/11239a046/blob/main/Exp_1.ipynb\" target=\"_parent\"><img src=\"https://colab.research.google.com/assets/colab-badge.svg\" alt=\"Open In Colab\"/></a>"
      ]
    },
    {
      "cell_type": "code",
      "metadata": {
        "colab": {
          "base_uri": "https://localhost:8080/"
        },
        "id": "35fcab84",
        "outputId": "de6bdbd3-0bf5-484e-dc66-17b2ad6f3775"
      },
      "source": [
        "# Step 1: Input array size\n",
        "n = int(input(\"Enter no. of elements you want in array:\"))\n",
        "\n",
        "# Step 2: Input array elements\n",
        "print(\"Enter all the elements:\")\n",
        "a = []\n",
        "for _ in range(n):\n",
        "    a.append(int(input()))\n",
        "\n",
        "# Step 3: Sort elements in ascending order\n",
        "a.sort()\n",
        "\n",
        "# Step 4: Display sorted array\n",
        "print(\"Ascending Order:\", end=\"\")\n",
        "print(*a, sep=\",\")"
      ],
      "execution_count": 2,
      "outputs": [
        {
          "output_type": "stream",
          "name": "stdout",
          "text": [
            "Enter no. of elements you want in array:3\n",
            "Enter all the elements:\n",
            "7\n",
            "8\n",
            "9\n",
            "Ascending Order:7,8,9\n"
          ]
        }
      ]
    }
  ]
}